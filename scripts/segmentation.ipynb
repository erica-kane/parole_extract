{
 "cells": [
  {
   "cell_type": "code",
   "execution_count": 1,
   "metadata": {},
   "outputs": [],
   "source": [
    "import re\n",
    "from pathlib import Path"
   ]
  },
  {
   "cell_type": "code",
   "execution_count": 2,
   "metadata": {},
   "outputs": [],
   "source": [
    "def segment_letter(letter_path, letter_type):\n",
    "    \"\"\"\n",
    "    Segments the letter content by splitting it at the 'Risk Factors' section (based on the letter type).\n",
    "\n",
    "    Args:\n",
    "    - letter_path (str): Path to the letter file.\n",
    "    - letter_type (str): The type of the letter, either 'mca' or 'oh'.\n",
    "\n",
    "    Returns:\n",
    "        str: The segmented content of the letter up to the 'Risk Factors' section.\n",
    "    \"\"\"\n",
    "    # Read the content of the letter\n",
    "    with open(letter_path, 'r', encoding='utf-8') as letter:\n",
    "        letter_content = letter.read()\n",
    "\n",
    "    # Define the regex patterns to identify the 'Risk Factors' section based on the letter type\n",
    "    if letter_type == 'mca':\n",
    "        risk_re = r'\\n+\\s*[34]?\\.?\\s*[Rr]isk [Ff]actors\\.?\\s*\\n+'\n",
    "    elif letter_type == 'oh':\n",
    "        risk_re = r'\\n+\\s*[345]?\\.\\s*[Rr]isk(?: [Aa]nd [Pp]rotective)? [Ff]actors:?\\s*\\n+'\n",
    "    \n",
    "    # Split the letter content at the first occurrence of the 'Risk Factors' section\n",
    "    letter_content_split = re.split(risk_re, letter_content, 1)[0]\n",
    "\n",
    "    # Replace multiple consecutive newlines with a single newline\n",
    "    letter_content_split_newline = re.sub(r'\\n+', r'\\n', letter_content_split)\n",
    "    # Replace multiple consecutive whitespaces with a single whitespace\n",
    "    letter_content_split_space = re.sub(r' +', ' ', letter_content_split_newline)\n",
    "\n",
    "    return letter_content_split_space"
   ]
  },
  {
   "cell_type": "code",
   "execution_count": 3,
   "metadata": {},
   "outputs": [],
   "source": [
    "def run_segmentation(folder_path_pseudon, folder_path_segment, letter_type):\n",
    "    \"\"\"\n",
    "    Processes all pseudonymised letters, segments the content, and writes the segmented content.\n",
    "\n",
    "    Args:\n",
    "        folder_path_pseudon (str): Path to the directory containing input letters (pseudonymised letters).\n",
    "        folder_path_segment (str): Path to the directory where segmented letters will be saved.\n",
    "        letter_type (str): The type of the letters ('mcadl' or 'ohdl').\n",
    "    \"\"\"\n",
    "    # Get a list of all letter paths in the pseudonymised letter directory\n",
    "    letter_paths = list(Path(folder_path_pseudon).glob('*.txt'))\n",
    "\n",
    "    # Process each letter and save the segmented content and the path\n",
    "    for letter_path in letter_paths:\n",
    "        letter_content_segment = segment_letter(letter_path, letter_type)\n",
    "        letter_path_segment = Path(folder_path_segment) / letter_path.name\n",
    "\n",
    "        # Write the segmented content to a new file in the output directory\n",
    "        with open(letter_path_segment, 'w', encoding='utf-8') as letter_segment:\n",
    "            letter_segment.write(letter_content_segment)"
   ]
  },
  {
   "cell_type": "code",
   "execution_count": 4,
   "metadata": {},
   "outputs": [],
   "source": [
    "# Run the segmentation process for 'mcadl' letters\n",
    "run_segmentation('data/primary_data/letters/pseudon_dls/mcadl/', 'data/primary_data/letters/segmented_dls/mcadl/', 'mca')\n",
    "# Run the segmentation process for 'ohdl' letters\n",
    "run_segmentation('data/primary_data/letters/pseudon_dls/ohdl/', 'data/primary_data/letters/segmented_dls/ohdl/', 'oh')"
   ]
  }
 ],
 "metadata": {
  "kernelspec": {
   "display_name": "phd",
   "language": "python",
   "name": "python3"
  },
  "language_info": {
   "codemirror_mode": {
    "name": "ipython",
    "version": 3
   },
   "file_extension": ".py",
   "mimetype": "text/x-python",
   "name": "python",
   "nbconvert_exporter": "python",
   "pygments_lexer": "ipython3",
   "version": "3.9.20"
  }
 },
 "nbformat": 4,
 "nbformat_minor": 2
}
