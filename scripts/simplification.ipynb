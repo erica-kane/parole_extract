{
 "cells": [
  {
   "cell_type": "code",
   "execution_count": 1,
   "metadata": {},
   "outputs": [],
   "source": [
    "import spacy\n",
    "import re\n",
    "import pandas as pd\n",
    "import joblib\n",
    "import sklearn"
   ]
  },
  {
   "cell_type": "code",
   "execution_count": 10,
   "metadata": {},
   "outputs": [],
   "source": [
    "def simplify_crimes(extract_data, model_cat, model_type):\n",
    "    \"\"\"\n",
    "    Simplify crime data by classifying offences into categories and types, before reducing them.\n",
    "\n",
    "    Parameters:\n",
    "    - extract_data: DataFrame containing extracted primary crime data.\n",
    "    - model_cat: Model for classifying offence categories.\n",
    "    - model_type: Model for classifying offence types.\n",
    "\n",
    "    Returns:\n",
    "    - DataFrame with simplified offence classifications.\n",
    "    \"\"\"\n",
    "\n",
    "    extract_data_copy = extract_data.copy()\n",
    "    \n",
    "    # Classify crimes into categories\n",
    "    extract_data_copy['offence_category'] = model_cat.predict(extract_data['crime'])\n",
    "\n",
    "    # Remove rows where the crime is classified as a 'none' category\n",
    "    extract_data_copy = extract_data_copy[extract_data_copy['offence_category'] != 'none'].reset_index(drop=True)\n",
    "\n",
    "    # Classify crime contexts into types\n",
    "    extract_data_copy['offence_type'] = model_type.predict(extract_data_copy['context'])\n",
    "\n",
    "    # Only keep letters where there is at least one context which has been classified as index\n",
    "    extract_data_copy = extract_data_copy[extract_data_copy.groupby('letter_id')['offence_type'].transform(lambda x: 'i' in x.values)].reset_index(drop=True)\n",
    "\n",
    "    # Group offence categories and types by letter\n",
    "    extract_data_simplified = extract_data_copy.groupby('letter_id').apply(\n",
    "        lambda x: pd.Series({\n",
    "            'index_offences': set(x.loc[x['offence_type'] == 'i', 'offence_category']), # Unique index offence categories per letter\n",
    "            'previous_offences': set(x.loc[x['offence_type'] == 'o', 'offence_category']) # Unique previous offence categories per letter\n",
    "        })\n",
    "    ).reset_index()\n",
    "\n",
    "    return extract_data_simplified\n",
    "\n"
   ]
  },
  {
   "cell_type": "code",
   "execution_count": 11,
   "metadata": {},
   "outputs": [],
   "source": [
    "# Load extracted crime data from Excel files\n",
    "extract_mcadl = pd.read_excel('../data/primary_data/extract/mcadl/extract_mcadl.xlsx', dtype={'letter_id': str})\n",
    "extract_ohdl = pd.read_excel('../data/primary_data/extract/ohdl/extract_ohdl.xlsx', dtype={'letter_id': str})"
   ]
  },
  {
   "cell_type": "code",
   "execution_count": 12,
   "metadata": {},
   "outputs": [
    {
     "name": "stderr",
     "output_type": "stream",
     "text": [
      "/Users/ericamcgovern/opt/miniconda3/envs/phdpipe/lib/python3.9/site-packages/sklearn/base.py:376: InconsistentVersionWarning: Trying to unpickle estimator TfidfTransformer from version 1.2.2 when using version 1.4.0. This might lead to breaking code or invalid results. Use at your own risk. For more info please refer to:\n",
      "https://scikit-learn.org/stable/model_persistence.html#security-maintainability-limitations\n",
      "  warnings.warn(\n",
      "/Users/ericamcgovern/opt/miniconda3/envs/phdpipe/lib/python3.9/site-packages/sklearn/base.py:376: InconsistentVersionWarning: Trying to unpickle estimator TfidfVectorizer from version 1.2.2 when using version 1.4.0. This might lead to breaking code or invalid results. Use at your own risk. For more info please refer to:\n",
      "https://scikit-learn.org/stable/model_persistence.html#security-maintainability-limitations\n",
      "  warnings.warn(\n",
      "/Users/ericamcgovern/opt/miniconda3/envs/phdpipe/lib/python3.9/site-packages/sklearn/base.py:376: InconsistentVersionWarning: Trying to unpickle estimator LogisticRegression from version 1.2.2 when using version 1.4.0. This might lead to breaking code or invalid results. Use at your own risk. For more info please refer to:\n",
      "https://scikit-learn.org/stable/model_persistence.html#security-maintainability-limitations\n",
      "  warnings.warn(\n",
      "/Users/ericamcgovern/opt/miniconda3/envs/phdpipe/lib/python3.9/site-packages/sklearn/base.py:376: InconsistentVersionWarning: Trying to unpickle estimator Pipeline from version 1.2.2 when using version 1.4.0. This might lead to breaking code or invalid results. Use at your own risk. For more info please refer to:\n",
      "https://scikit-learn.org/stable/model_persistence.html#security-maintainability-limitations\n",
      "  warnings.warn(\n"
     ]
    }
   ],
   "source": [
    "# Load offence category and type classification models\n",
    "model_path_cat = '../data/models/offence_cat_model.pkl'\n",
    "model_cat = joblib.load(model_path_cat)\n",
    "\n",
    "model_path_type_mcadl = '../data/models/offence_type_model_mcadl.pkl'\n",
    "model_type_mcadl = joblib.load(model_path_type_mcadl)\n",
    "\n",
    "model_path_type_ohdl = '../data/models/offence_type_model_ohdl.pkl'\n",
    "model_type_ohdl = joblib.load(model_path_type_ohdl)"
   ]
  },
  {
   "cell_type": "code",
   "execution_count": 13,
   "metadata": {},
   "outputs": [
    {
     "name": "stderr",
     "output_type": "stream",
     "text": [
      "/var/folders/p0/kd5c1wdj7_d6n50vl898smy00000gn/T/ipykernel_75558/2655967498.py:29: DeprecationWarning: DataFrameGroupBy.apply operated on the grouping columns. This behavior is deprecated, and in a future version of pandas the grouping columns will be excluded from the operation. Either pass `include_groups=False` to exclude the groupings or explicitly select the grouping columns after groupby to silence this warning.\n",
      "  extract_data_simplified = extract_data_copy.groupby('letter_id').apply(\n",
      "/var/folders/p0/kd5c1wdj7_d6n50vl898smy00000gn/T/ipykernel_75558/2655967498.py:29: DeprecationWarning: DataFrameGroupBy.apply operated on the grouping columns. This behavior is deprecated, and in a future version of pandas the grouping columns will be excluded from the operation. Either pass `include_groups=False` to exclude the groupings or explicitly select the grouping columns after groupby to silence this warning.\n",
      "  extract_data_simplified = extract_data_copy.groupby('letter_id').apply(\n"
     ]
    }
   ],
   "source": [
    "# Simplify crimes for both data sets\n",
    "simplified_mcadl = simplify_crimes(extract_mcadl, model_cat, model_type_mcadl)\n",
    "simplified_ohdl = simplify_crimes(extract_ohdl, model_cat, model_type_ohdl)"
   ]
  },
  {
   "cell_type": "code",
   "execution_count": 14,
   "metadata": {},
   "outputs": [],
   "source": [
    "simplified_mcadl.to_excel('../data/primary_data/extract/mcadl/simplified_mcadl.xlsx', index=False)\n",
    "simplified_ohdl.to_excel('../data/primary_data/extract/ohdl/simplified_ohdl.xlsx', index=False)"
   ]
  }
 ],
 "metadata": {
  "kernelspec": {
   "display_name": "phd",
   "language": "python",
   "name": "python3"
  },
  "language_info": {
   "codemirror_mode": {
    "name": "ipython",
    "version": 3
   },
   "file_extension": ".py",
   "mimetype": "text/x-python",
   "name": "python",
   "nbconvert_exporter": "python",
   "pygments_lexer": "ipython3",
   "version": "3.9.20"
  }
 },
 "nbformat": 4,
 "nbformat_minor": 2
}
